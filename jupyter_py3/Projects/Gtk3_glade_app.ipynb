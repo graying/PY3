{
 "cells": [
  {
   "cell_type": "code",
   "execution_count": 5,
   "metadata": {
    "collapsed": true
   },
   "outputs": [],
   "source": [
    "import gi\n",
    "gi.require_version('Gtk', '3.0')\n",
    "from gi.repository import Gtk"
   ]
  },
  {
   "cell_type": "code",
   "execution_count": 6,
   "metadata": {
    "collapsed": true
   },
   "outputs": [],
   "source": [
    "class handler:\n",
    "    def OnDeleteEvent(self, *args):\n",
    "        print('delete event created')\n",
    "        Gtk.main_quit(*args)\n",
    "    def OnButtonClicked(self, button):\n",
    "        print ('button clicked')\n",
    "    def OnButtonPressed(self, button):\n",
    "        print ('button pressed')\n"
   ]
  },
  {
   "cell_type": "code",
   "execution_count": 7,
   "metadata": {
    "collapsed": true
   },
   "outputs": [],
   "source": [
    "builder = Gtk.Builder()\n",
    "builder.add_from_file('myapp.glade')\n",
    "builder.connect_signals(handler())"
   ]
  },
  {
   "cell_type": "code",
   "execution_count": 8,
   "metadata": {},
   "outputs": [
    {
     "name": "stdout",
     "output_type": "stream",
     "text": [
      "button pressed\n",
      "button clicked\n",
      "button pressed\n",
      "button clicked\n",
      "delete event created\n"
     ]
    }
   ],
   "source": [
    "window = builder.get_object('myWin')\n",
    "window.show_all()\n",
    "Gtk.main()"
   ]
  }
 ],
 "metadata": {
  "kernelspec": {
   "display_name": "Python 3",
   "language": "python",
   "name": "python3"
  },
  "language_info": {
   "codemirror_mode": {
    "name": "ipython",
    "version": 3
   },
   "file_extension": ".py",
   "mimetype": "text/x-python",
   "name": "python",
   "nbconvert_exporter": "python",
   "pygments_lexer": "ipython3",
   "version": "3.6.3"
  }
 },
 "nbformat": 4,
 "nbformat_minor": 2
}
