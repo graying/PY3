{
 "cells": [
  {
   "cell_type": "code",
   "execution_count": 2,
   "metadata": {},
   "outputs": [
    {
     "ename": "ValueError",
     "evalue": "Unknown projection '3d'",
     "output_type": "error",
     "traceback": [
      "Traceback \u001b[0;36m(most recent call last)\u001b[0m:\n",
      "  File \u001b[1;32m\"<ipython-input-2-f54dc3ac3712>\"\u001b[0m, line \u001b[1;32m7\u001b[0m, in \u001b[1;35m<module>\u001b[0m\n    ax = fig.add_subplot(111, projection='3d')\n",
      "  File \u001b[1;32m\"/Users/eddy/GitHub/venv/lib/python3.7/site-packages/matplotlib/figure.py\"\u001b[0m, line \u001b[1;32m1349\u001b[0m, in \u001b[1;35madd_subplot\u001b[0m\n    self, *args, **kwargs)\n",
      "  File \u001b[1;32m\"/Users/eddy/GitHub/venv/lib/python3.7/site-packages/matplotlib/projections/__init__.py\"\u001b[0m, line \u001b[1;32m81\u001b[0m, in \u001b[1;35mprocess_projection_requirements\u001b[0m\n    projection_class = get_projection_class(projection)\n",
      "\u001b[0;36m  File \u001b[0;32m\"/Users/eddy/GitHub/venv/lib/python3.7/site-packages/matplotlib/projections/__init__.py\"\u001b[0;36m, line \u001b[0;32m60\u001b[0;36m, in \u001b[0;35mget_projection_class\u001b[0;36m\u001b[0m\n\u001b[0;31m    raise ValueError(\"Unknown projection %r\" % projection)\u001b[0m\n",
      "\u001b[0;31mValueError\u001b[0m\u001b[0;31m:\u001b[0m Unknown projection '3d'\n"
     ]
    }
   ],
   "source": [
    "import numpy as np\n",
    "import pandas as pd\n",
    "import matplotlib.pyplot as plt\n",
    "#from mpl_toolkits.mplot3d import Axes3D\n",
    "\n",
    "fig = plt.figure()\n",
    "ax = fig.add_subplot(111, projection='3d')\n",
    "a = np.arange (1,100,0.01)\n",
    "b = np.sin(a)\n",
    "c = np.arange (100,1,-0.01)\n",
    "ax.plot(a,b,c,color = 'b')\n",
    "ax.set_xlabel('x')\n",
    "ax.set_ylabel('y')\n",
    "ax.set_zlabel('z')\n",
    "ax.set_title('x y z 3d')\n",
    "\n",
    "plt.show()\n"
   ]
  },
  {
   "cell_type": "code",
   "execution_count": null,
   "metadata": {},
   "outputs": [],
   "source": [
    "import numpy as np\n",
    "import pandas as pd\n",
    "import matplotlib.pyplot as plt\n",
    "a = np.arange(1,100)\n",
    "plt.plot(a)\n",
    "plt.show()"
   ]
  }
 ],
 "metadata": {
  "kernelspec": {
   "display_name": "Python 3 (Spyder)",
   "language": "python3",
   "name": "python3"
  },
  "language_info": {
   "codemirror_mode": {
    "name": "ipython",
    "version": 3
   },
   "file_extension": ".py",
   "mimetype": "text/x-python",
   "name": "python",
   "nbconvert_exporter": "python",
   "pygments_lexer": "ipython3",
   "version": "3.7.2"
  }
 },
 "nbformat": 4,
 "nbformat_minor": 2
}
