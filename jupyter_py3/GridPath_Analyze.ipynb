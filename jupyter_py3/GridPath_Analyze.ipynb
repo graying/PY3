{
 "cells": [
  {
   "cell_type": "code",
   "execution_count": 8,
   "metadata": {},
   "outputs": [],
   "source": [
    "%matplotlib notebook\n",
    "import pandas as pd\n",
    "import numpy as np\n",
    "from mpl_toolkits import mplot3d # \n",
    "import matplotlib.pyplot as plt\n",
    "df = pd.read_csv(\"5x5_result.txt\", delimiter=' ')\n",
    "\n",
    "arr_x=list(df.x)\n",
    "arr_y=list(df.y)\n",
    "arr_result = list(df.result)\n",
    "\n",
    "#fig = plt.figure()\n",
    "#ax = plt.axes(projection=\"3d\")\n",
    "\n",
    "#ax.plot3D(arr_x, arr_y, arr_result)\n",
    "\n",
    "#ax.scatter3D(arr_x, arr_y, arr_result, c=arr_result)"
   ]
  },
  {
   "cell_type": "code",
   "execution_count": 9,
   "metadata": {},
   "outputs": [],
   "source": [
    "grid_x = 10\n",
    "grid_y = 10\n",
    "grid_x +=1\n",
    "grid_y +=1\n",
    "arr = np.zeros((grid_x,grid_y), dtype=np.uint32)"
   ]
  },
  {
   "cell_type": "code",
   "execution_count": 10,
   "metadata": {},
   "outputs": [],
   "source": [
    "#    [0,0,0],\n",
    "#    [0,2,3],\n",
    "#    [0,3,6],\n",
    "     "
   ]
  },
  {
   "cell_type": "code",
   "execution_count": 11,
   "metadata": {},
   "outputs": [],
   "source": [
    "\n",
    "arr[1][1]=2\n"
   ]
  },
  {
   "cell_type": "code",
   "execution_count": 12,
   "metadata": {},
   "outputs": [],
   "source": [
    "\n",
    "for x in range(1,grid_x):\n",
    "    arr[x][0]=x\n",
    "    arr[x][1]=x+1\n",
    "    for y in range(1, grid_y):\n",
    "        arr[0][y]=y\n",
    "        arr[1][y]=y+1\n",
    "        if x>=2 and y>=2:\n",
    "            arr[x][y]=arr[x-1][y]+arr[x][y-1]"
   ]
  },
  {
   "cell_type": "code",
   "execution_count": 13,
   "metadata": {},
   "outputs": [
    {
     "data": {
      "text/plain": [
       "array([[     0,      1,      2,      3,      4,      5,      6,      7,\n",
       "             8,      9,     10],\n",
       "       [     1,      2,      3,      4,      5,      6,      7,      8,\n",
       "             9,     10,     11],\n",
       "       [     2,      3,      6,     10,     15,     21,     28,     36,\n",
       "            45,     55,     66],\n",
       "       [     3,      4,     10,     20,     35,     56,     84,    120,\n",
       "           165,    220,    286],\n",
       "       [     4,      5,     15,     35,     70,    126,    210,    330,\n",
       "           495,    715,   1001],\n",
       "       [     5,      6,     21,     56,    126,    252,    462,    792,\n",
       "          1287,   2002,   3003],\n",
       "       [     6,      7,     28,     84,    210,    462,    924,   1716,\n",
       "          3003,   5005,   8008],\n",
       "       [     7,      8,     36,    120,    330,    792,   1716,   3432,\n",
       "          6435,  11440,  19448],\n",
       "       [     8,      9,     45,    165,    495,   1287,   3003,   6435,\n",
       "         12870,  24310,  43758],\n",
       "       [     9,     10,     55,    220,    715,   2002,   5005,  11440,\n",
       "         24310,  48620,  92378],\n",
       "       [    10,     11,     66,    286,   1001,   3003,   8008,  19448,\n",
       "         43758,  92378, 184756]], dtype=uint32)"
      ]
     },
     "execution_count": 13,
     "metadata": {},
     "output_type": "execute_result"
    }
   ],
   "source": [
    "arr"
   ]
  },
  {
   "cell_type": "code",
   "execution_count": null,
   "metadata": {},
   "outputs": [],
   "source": []
  },
  {
   "cell_type": "code",
   "execution_count": null,
   "metadata": {},
   "outputs": [],
   "source": []
  },
  {
   "cell_type": "code",
   "execution_count": null,
   "metadata": {},
   "outputs": [],
   "source": []
  },
  {
   "cell_type": "code",
   "execution_count": null,
   "metadata": {},
   "outputs": [],
   "source": []
  }
 ],
 "metadata": {
  "kernelspec": {
   "display_name": "Python 3",
   "language": "python",
   "name": "python3"
  },
  "language_info": {
   "codemirror_mode": {
    "name": "ipython",
    "version": 3
   },
   "file_extension": ".py",
   "mimetype": "text/x-python",
   "name": "python",
   "nbconvert_exporter": "python",
   "pygments_lexer": "ipython3",
   "version": "3.7.2"
  }
 },
 "nbformat": 4,
 "nbformat_minor": 2
}
