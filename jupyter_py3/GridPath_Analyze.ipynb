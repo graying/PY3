{
 "cells": [
  {
   "cell_type": "code",
   "execution_count": 1,
   "metadata": {},
   "outputs": [],
   "source": [
    "%matplotlib notebook\n",
    "#import pandas as pd\n",
    "import numpy as np\n",
    "from mpl_toolkits import mplot3d # \n",
    "import matplotlib.pyplot as plt\n",
    "\n",
    "\n",
    "# df = pd.read_csv(\"5x5_result.txt\", delimiter=' ')\n",
    "# arr_x=list(df.x)\n",
    "# arr_y=list(df.y)\n",
    "# arr_result = list(df.result)\n"
   ]
  },
  {
   "cell_type": "code",
   "execution_count": 2,
   "metadata": {},
   "outputs": [],
   "source": [
    "# set a grid of (x,y) arr is the 2 dimensions array\n",
    "grid_x = 15\n",
    "grid_y = 15\n",
    "grid_x +=1\n",
    "grid_y +=1\n",
    "arr = np.zeros((grid_x,grid_y), dtype=np.uint64)"
   ]
  },
  {
   "cell_type": "code",
   "execution_count": 3,
   "metadata": {},
   "outputs": [],
   "source": [
    "#    [0,1,2],\n",
    "#    [1,2,3],\n",
    "#    [2,3,6],"
   ]
  },
  {
   "cell_type": "code",
   "execution_count": 4,
   "metadata": {},
   "outputs": [],
   "source": [
    "arr[1][1]=2"
   ]
  },
  {
   "cell_type": "code",
   "execution_count": 5,
   "metadata": {},
   "outputs": [],
   "source": [
    "#calculate the result in array, \n",
    "# arr[x][y]=result, x is grid x axle , y is Y axle \n",
    "for x in range(1,grid_x):\n",
    "    arr[x][0]=x\n",
    "    arr[x][1]=x+1\n",
    "    for y in range(1, grid_y):\n",
    "        arr[0][y]=y\n",
    "        arr[1][y]=y+1\n",
    "        if x>=2 and y>=2:\n",
    "            arr[x][y]=arr[x-1][y]+arr[x][y-1]"
   ]
  },
  {
   "cell_type": "code",
   "execution_count": 6,
   "metadata": {},
   "outputs": [
    {
     "data": {
      "text/plain": [
       "<IPython.core.display.Javascript object>"
      ]
     },
     "execution_count": 0,
     "metadata": {},
     "output_type": "execute_result"
    },
    {
     "data": {
      "text/html": [
       "<div id='838356a2-54cc-4ac5-9d9e-388092dc6efb'></div>"
      ],
      "text/plain": [
       "<div id='838356a2-54cc-4ac5-9d9e-388092dc6efb'></div>"
      ]
     },
     "execution_count": 0,
     "metadata": {},
     "output_type": "execute_result"
    },
    {
     "data": {
      "text/plain": [
       "<IPython.core.display.Javascript object>"
      ]
     },
     "execution_count": 0,
     "metadata": {},
     "output_type": "execute_result"
    },
    {
     "data": {
      "text/html": [
       "<div id='b4a8ca1f-1b2c-4608-8249-56856ced9db0'></div>"
      ],
      "text/plain": [
       "<div id='b4a8ca1f-1b2c-4608-8249-56856ced9db0'></div>"
      ]
     },
     "execution_count": 0,
     "metadata": {},
     "output_type": "execute_result"
    },
    {
     "data": {
      "text/plain": [
       "<mpl_toolkits.mplot3d.art3d.Path3DCollection at 0x10ec98898>"
      ]
     },
     "execution_count": 6,
     "metadata": {},
     "output_type": "execute_result"
    }
   ],
   "source": [
    "#plot it in 3D\n",
    "arx=list()\n",
    "ary=list()\n",
    "ar_r=list()\n",
    "for x in range(1, grid_x):\n",
    "    for y in range(1, grid_y):\n",
    "        arx.append(x)\n",
    "        ary.append(y)\n",
    "        ar_r.append(arr[x][y])\n",
    "fig = plt.figure()\n",
    "ax = plt.axes(projection=\"3d\")\n",
    "ax.plot3D(arx, ary, ar_r)\n",
    "ax.scatter3D(arx, ary, ar_r, c=arx)\n",
    "\n",
    "fig1 = plt.figure()\n",
    "ax1 = plt.axes(projection=\"3d\")\n",
    "ax1.scatter3D(arx, ary, ar_r, c=ar_r)\n"
   ]
  },
  {
   "cell_type": "code",
   "execution_count": 7,
   "metadata": {},
   "outputs": [
    {
     "data": {
      "text/plain": [
       "array([[        0,         1,         2,         3,         4,         5,\n                6,         7,         8,         9,        10,        11,\n               12,        13,        14,        15],\n       [        1,         2,         3,         4,         5,         6,\n                7,         8,         9,        10,        11,        12,\n               13,        14,        15,        16],\n       [        2,         3,         6,        10,        15,        21,\n               28,        36,        45,        55,        66,        78,\n               91,       105,       120,       136],\n       [        3,         4,        10,        20,        35,        56,\n               84,       120,       165,       220,       286,       364,\n              455,       560,       680,       816],\n       [        4,         5,        15,        35,        70,       126,\n              210,       330,       495,       715,      1001,      1365,\n             1820,      2380,      3060,      3876],\n       [        5,         6,        21,        56,       126,       252,\n              462,       792,      1287,      2002,      3003,      4368,\n             6188,      8568,     11628,     15504],\n       [        6,         7,        28,        84,       210,       462,\n              924,      1716,      3003,      5005,      8008,     12376,\n            18564,     27132,     38760,     54264],\n       [        7,         8,        36,       120,       330,       792,\n             1716,      3432,      6435,     11440,     19448,     31824,\n            50388,     77520,    116280,    170544],\n       [        8,         9,        45,       165,       495,      1287,\n             3003,      6435,     12870,     24310,     43758,     75582,\n           125970,    203490,    319770,    490314],\n       [        9,        10,        55,       220,       715,      2002,\n             5005,     11440,     24310,     48620,     92378,    167960,\n           293930,    497420,    817190,   1307504],\n       [       10,        11,        66,       286,      1001,      3003,\n             8008,     19448,     43758,     92378,    184756,    352716,\n           646646,   1144066,   1961256,   3268760],\n       [       11,        12,        78,       364,      1365,      4368,\n            12376,     31824,     75582,    167960,    352716,    705432,\n          1352078,   2496144,   4457400,   7726160],\n       [       12,        13,        91,       455,      1820,      6188,\n            18564,     50388,    125970,    293930,    646646,   1352078,\n          2704156,   5200300,   9657700,  17383860],\n       [       13,        14,       105,       560,      2380,      8568,\n            27132,     77520,    203490,    497420,   1144066,   2496144,\n          5200300,  10400600,  20058300,  37442160],\n       [       14,        15,       120,       680,      3060,     11628,\n            38760,    116280,    319770,    817190,   1961256,   4457400,\n          9657700,  20058300,  40116600,  77558760],\n       [       15,        16,       136,       816,      3876,     15504,\n            54264,    170544,    490314,   1307504,   3268760,   7726160,\n         17383860,  37442160,  77558760, 155117520]], dtype=uint64)"
      ]
     },
     "execution_count": 7,
     "metadata": {},
     "output_type": "execute_result"
    }
   ],
   "source": [
    "arr"
   ]
  },
  {
   "cell_type": "code",
   "execution_count": null,
   "metadata": {},
   "outputs": [],
   "source": []
  }
 ],
 "metadata": {
  "kernelspec": {
   "display_name": "Python 3",
   "language": "python",
   "name": "python3"
  },
  "language_info": {
   "codemirror_mode": {
    "name": "ipython",
    "version": 3
   },
   "file_extension": ".py",
   "mimetype": "text/x-python",
   "name": "python",
   "nbconvert_exporter": "python",
   "pygments_lexer": "ipython3",
   "version": "3.7.2"
  }
 },
 "nbformat": 4,
 "nbformat_minor": 2
}
