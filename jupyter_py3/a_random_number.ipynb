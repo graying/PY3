{
 "cells": [
  {
   "cell_type": "code",
   "execution_count": 4,
   "metadata": {},
   "outputs": [
    {
     "data": {
      "text/plain": [
       "0.43267636385358776"
      ]
     },
     "execution_count": 4,
     "metadata": {},
     "output_type": "execute_result"
    }
   ],
   "source": [
    "import random\n",
    "random.random()"
   ]
  },
  {
   "cell_type": "code",
   "execution_count": 2,
   "metadata": {},
   "outputs": [
    {
     "data": {
      "text/plain": [
       "array([0.82726417])"
      ]
     },
     "execution_count": 2,
     "metadata": {},
     "output_type": "execute_result"
    }
   ],
   "source": [
    "import numpy as np\n",
    "np.random.rand(1)"
   ]
  },
  {
   "cell_type": "code",
   "execution_count": 3,
   "metadata": {},
   "outputs": [
    {
     "data": {
      "text/plain": [
       "array([[35, 84, 74, 59, 99, 27, 82, 24, 84, 76],\n       [42, 66, 88, 18, 84, 41, 91, 41, 15, 87],\n       [92, 76, 31, 64, 37, 99, 16, 37, 61, 21],\n       [71, 88, 26, 43, 58, 78, 40,  2, 56, 32],\n       [54, 47, 96, 26, 96,  0, 39, 57, 39, 19],\n       [78, 73, 16, 53, 92, 66, 64, 41, 58, 18],\n       [35,  1, 93, 62,  4, 65, 28, 81,  5, 37],\n       [28, 37, 92, 52, 96, 10, 42, 80,  8, 38],\n       [ 3, 28, 10, 94, 42, 48, 77, 49, 51, 48],\n       [53, 52,  8, 35,  5, 60, 25, 87, 32, 95]])"
      ]
     },
     "execution_count": 3,
     "metadata": {},
     "output_type": "execute_result"
    }
   ],
   "source": [
    "np.random.randint(0,100,(10,10))"
   ]
  },
  {
   "cell_type": "code",
   "execution_count": 1,
   "metadata": {},
   "outputs": [],
   "source": [
    ""
   ]
  },
  {
   "cell_type": "code",
   "execution_count": null,
   "metadata": {},
   "outputs": [],
   "source": []
  }
 ],
 "metadata": {
  "kernelspec": {
   "display_name": "Python 3",
   "language": "python",
   "name": "python3"
  },
  "language_info": {
   "codemirror_mode": {
    "name": "ipython",
    "version": 3
   },
   "file_extension": ".py",
   "mimetype": "text/x-python",
   "name": "python",
   "nbconvert_exporter": "python",
   "pygments_lexer": "ipython3",
   "version": "3.7.2"
  }
 },
 "nbformat": 4,
 "nbformat_minor": 2
}
