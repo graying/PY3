{
 "cells": [
  {
   "cell_type": "code",
   "execution_count": 7,
   "metadata": {},
   "outputs": [],
   "source": [
    "import gi\n",
    "gi.require_version('Gtk', '3.0')                                        \n",
    "\n",
    "from gi.repository import Gtk                                         \n",
    "\n",
    "class MyWindow(Gtk.Window):     \n",
    "    def __init__(self): \n",
    "        Gtk.Window.__init__(self, title=\"Hello World\") \n",
    "        self.box = Gtk.Box(spacing=6) \n",
    "        self.add(self.box) \n",
    "        self.button1 = Gtk.Button(label=\"Hello\") \n",
    "        self.button1.connect(\"clicked\", self.on_button1_clicked) \n",
    "        self.box.pack_start(self.button1, True, True, 0) \n",
    "        self.button2 = Gtk.Button(label=\"Goodbye\") \n",
    "        self.button2.connect(\"clicked\", self.on_button2_clicked) \n",
    "        self.box.pack_start(self.button2, True, True, 0) \n",
    "                                                                         \n",
    "\n",
    "    def on_button1_clicked(self, widget): \n",
    "        print (\"Hello...\") \n",
    "    def on_button2_clicked(self, widget): \n",
    "        print (\"Goodbye...\")\n",
    "        self.destroy()\n"
   ]
  },
  {
   "cell_type": "code",
   "execution_count": 8,
   "metadata": {},
   "outputs": [],
   "source": [
    "MyWin = MyWindow()\n"
   ]
  },
  {
   "cell_type": "code",
   "execution_count": 9,
   "metadata": {},
   "outputs": [
    {
     "name": "stdout",
     "output_type": "stream",
     "text": [
      "Goodbye...\n"
     ]
    }
   ],
   "source": [
    "MyWin.connect(\"destroy\", Gtk.main_quit)\n",
    "MyWin.show_all()\n",
    "Gtk.main()"
   ]
  },
  {
   "cell_type": "code",
   "execution_count": null,
   "metadata": {},
   "outputs": [],
   "source": []
  }
 ],
 "metadata": {
  "kernelspec": {
   "display_name": "Python 3",
   "language": "python",
   "name": "python3"
  },
  "language_info": {
   "codemirror_mode": {
    "name": "ipython",
    "version": 3
   },
   "file_extension": ".py",
   "mimetype": "text/x-python",
   "name": "python",
   "nbconvert_exporter": "python",
   "pygments_lexer": "ipython3",
   "version": "3.7.1"
  }
 },
 "nbformat": 4,
 "nbformat_minor": 2
}
